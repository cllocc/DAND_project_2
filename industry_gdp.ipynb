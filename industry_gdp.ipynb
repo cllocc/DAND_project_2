{
 "cells": [
  {
   "cell_type": "markdown",
   "metadata": {},
   "source": [
    "# GDP Percentage Based On Total Indusrty\n",
    "\n",
    "## Table of Contents\n",
    "<ul>\n",
    "<li><a href=\"#intro\">Introduction</a></li>\n",
    "<li><a href=\"#wrangling\">Data Wrangling</a></li>\n",
    "<li><a href=\"#eda\">Exploratory Data Analysis</a></li>\n",
    "</ul>"
   ]
  },
  {
   "cell_type": "markdown",
   "metadata": {},
   "source": [
    "<a id='intro'></a>\n",
    "\n",
    "<font color=#303F9F>This part of the project for \"Investigating Country GDP and Education\" will focus on the total percentage of industry for each year 1960-2017. Choosing to investigage the top GDP/Capita countries above the mean.</font>\n",
    "<p>\n",
    "<li><font color=green>Luxembourg</li></font>\n",
    "<li><font color=blue>Norway</li></font>\n",
    "<li><font color=red>Denmark</li></font>\n",
    "<li><font color=gold>Sweden</li></font>\n",
    "<li><font color=#81D4FA>Australia</li></font>"
   ]
  },
  {
   "cell_type": "markdown",
   "metadata": {},
   "source": [
    "<a id='wrangling'></a>\n",
    "# Lets Do Some Wrangling and Oganizing. YEEEEEHaw\n",
    "\n",
    "<font color=#303F9F>We start by importing all of our necessary libraries and the data we want to analyze \"industry_percent_of_gdp.csv\".</font>\n",
    "<p>\n",
    "<font color=#303F9F><li>Pandas to help us wrangle and organize our data</li></font>\n",
    "<font color=#303F9F><li>Matplotlib to create beautiful visualizations</li></font>\n",
    "<font color=#303F9F><li>Seaborn for visualization styling</li></font>\n",
    "<font color=#303F9F><li>Numpy to help with scientific computing</li></font>\n"
   ]
  },
  {
   "cell_type": "code",
   "execution_count": 15,
   "metadata": {},
   "outputs": [
    {
     "data": {
      "text/html": [
       "<div>\n",
       "<style scoped>\n",
       "    .dataframe tbody tr th:only-of-type {\n",
       "        vertical-align: middle;\n",
       "    }\n",
       "\n",
       "    .dataframe tbody tr th {\n",
       "        vertical-align: top;\n",
       "    }\n",
       "\n",
       "    .dataframe thead th {\n",
       "        text-align: right;\n",
       "    }\n",
       "</style>\n",
       "<table border=\"1\" class=\"dataframe\">\n",
       "  <thead>\n",
       "    <tr style=\"text-align: right;\">\n",
       "      <th></th>\n",
       "      <th>country</th>\n",
       "      <th>1960</th>\n",
       "      <th>1961</th>\n",
       "      <th>1962</th>\n",
       "      <th>1963</th>\n",
       "      <th>1964</th>\n",
       "      <th>1965</th>\n",
       "      <th>1966</th>\n",
       "      <th>1967</th>\n",
       "      <th>1968</th>\n",
       "      <th>...</th>\n",
       "      <th>2008</th>\n",
       "      <th>2009</th>\n",
       "      <th>2010</th>\n",
       "      <th>2011</th>\n",
       "      <th>2012</th>\n",
       "      <th>2013</th>\n",
       "      <th>2014</th>\n",
       "      <th>2015</th>\n",
       "      <th>2016</th>\n",
       "      <th>2017</th>\n",
       "    </tr>\n",
       "  </thead>\n",
       "  <tbody>\n",
       "    <tr>\n",
       "      <td>0</td>\n",
       "      <td>Afghanistan</td>\n",
       "      <td>NaN</td>\n",
       "      <td>NaN</td>\n",
       "      <td>NaN</td>\n",
       "      <td>NaN</td>\n",
       "      <td>NaN</td>\n",
       "      <td>NaN</td>\n",
       "      <td>NaN</td>\n",
       "      <td>NaN</td>\n",
       "      <td>NaN</td>\n",
       "      <td>...</td>\n",
       "      <td>26.7</td>\n",
       "      <td>21.8</td>\n",
       "      <td>21.0</td>\n",
       "      <td>22.6</td>\n",
       "      <td>21.0</td>\n",
       "      <td>20.4</td>\n",
       "      <td>21.10</td>\n",
       "      <td>22.00</td>\n",
       "      <td>21.70</td>\n",
       "      <td>NaN</td>\n",
       "    </tr>\n",
       "    <tr>\n",
       "      <td>1</td>\n",
       "      <td>Albania</td>\n",
       "      <td>NaN</td>\n",
       "      <td>NaN</td>\n",
       "      <td>NaN</td>\n",
       "      <td>NaN</td>\n",
       "      <td>NaN</td>\n",
       "      <td>NaN</td>\n",
       "      <td>NaN</td>\n",
       "      <td>NaN</td>\n",
       "      <td>NaN</td>\n",
       "      <td>...</td>\n",
       "      <td>25.2</td>\n",
       "      <td>24.4</td>\n",
       "      <td>24.9</td>\n",
       "      <td>24.5</td>\n",
       "      <td>22.9</td>\n",
       "      <td>23.1</td>\n",
       "      <td>21.50</td>\n",
       "      <td>21.80</td>\n",
       "      <td>21.10</td>\n",
       "      <td>21.1</td>\n",
       "    </tr>\n",
       "    <tr>\n",
       "      <td>2</td>\n",
       "      <td>Algeria</td>\n",
       "      <td>29.4</td>\n",
       "      <td>29.5</td>\n",
       "      <td>31.7</td>\n",
       "      <td>40.8</td>\n",
       "      <td>42.7</td>\n",
       "      <td>42.2</td>\n",
       "      <td>46.5</td>\n",
       "      <td>47.8</td>\n",
       "      <td>47.7</td>\n",
       "      <td>...</td>\n",
       "      <td>58.6</td>\n",
       "      <td>47.9</td>\n",
       "      <td>50.5</td>\n",
       "      <td>49.6</td>\n",
       "      <td>47.8</td>\n",
       "      <td>44.3</td>\n",
       "      <td>42.30</td>\n",
       "      <td>35.70</td>\n",
       "      <td>34.90</td>\n",
       "      <td>36.3</td>\n",
       "    </tr>\n",
       "    <tr>\n",
       "      <td>3</td>\n",
       "      <td>Andorra</td>\n",
       "      <td>NaN</td>\n",
       "      <td>NaN</td>\n",
       "      <td>NaN</td>\n",
       "      <td>NaN</td>\n",
       "      <td>NaN</td>\n",
       "      <td>NaN</td>\n",
       "      <td>NaN</td>\n",
       "      <td>NaN</td>\n",
       "      <td>NaN</td>\n",
       "      <td>...</td>\n",
       "      <td>15.5</td>\n",
       "      <td>14.4</td>\n",
       "      <td>13.5</td>\n",
       "      <td>12.4</td>\n",
       "      <td>11.0</td>\n",
       "      <td>10.3</td>\n",
       "      <td>9.91</td>\n",
       "      <td>9.78</td>\n",
       "      <td>9.84</td>\n",
       "      <td>NaN</td>\n",
       "    </tr>\n",
       "    <tr>\n",
       "      <td>4</td>\n",
       "      <td>Angola</td>\n",
       "      <td>NaN</td>\n",
       "      <td>NaN</td>\n",
       "      <td>NaN</td>\n",
       "      <td>NaN</td>\n",
       "      <td>NaN</td>\n",
       "      <td>NaN</td>\n",
       "      <td>NaN</td>\n",
       "      <td>NaN</td>\n",
       "      <td>NaN</td>\n",
       "      <td>...</td>\n",
       "      <td>NaN</td>\n",
       "      <td>NaN</td>\n",
       "      <td>NaN</td>\n",
       "      <td>NaN</td>\n",
       "      <td>NaN</td>\n",
       "      <td>NaN</td>\n",
       "      <td>NaN</td>\n",
       "      <td>NaN</td>\n",
       "      <td>NaN</td>\n",
       "      <td>NaN</td>\n",
       "    </tr>\n",
       "  </tbody>\n",
       "</table>\n",
       "<p>5 rows × 59 columns</p>\n",
       "</div>"
      ],
      "text/plain": [
       "       country  1960  1961  1962  1963  1964  1965  1966  1967  1968  ...  \\\n",
       "0  Afghanistan   NaN   NaN   NaN   NaN   NaN   NaN   NaN   NaN   NaN  ...   \n",
       "1      Albania   NaN   NaN   NaN   NaN   NaN   NaN   NaN   NaN   NaN  ...   \n",
       "2      Algeria  29.4  29.5  31.7  40.8  42.7  42.2  46.5  47.8  47.7  ...   \n",
       "3      Andorra   NaN   NaN   NaN   NaN   NaN   NaN   NaN   NaN   NaN  ...   \n",
       "4       Angola   NaN   NaN   NaN   NaN   NaN   NaN   NaN   NaN   NaN  ...   \n",
       "\n",
       "   2008  2009  2010  2011  2012  2013   2014   2015   2016  2017  \n",
       "0  26.7  21.8  21.0  22.6  21.0  20.4  21.10  22.00  21.70   NaN  \n",
       "1  25.2  24.4  24.9  24.5  22.9  23.1  21.50  21.80  21.10  21.1  \n",
       "2  58.6  47.9  50.5  49.6  47.8  44.3  42.30  35.70  34.90  36.3  \n",
       "3  15.5  14.4  13.5  12.4  11.0  10.3   9.91   9.78   9.84   NaN  \n",
       "4   NaN   NaN   NaN   NaN   NaN   NaN    NaN    NaN    NaN   NaN  \n",
       "\n",
       "[5 rows x 59 columns]"
      ]
     },
     "execution_count": 15,
     "metadata": {},
     "output_type": "execute_result"
    }
   ],
   "source": [
    "#Import Packages and read the data\n",
    "import pandas as pd\n",
    "import matplotlib.pyplot as plt\n",
    "import seaborn as sns\n",
    "import numpy as np\n",
    "%matplotlib inline\n",
    "\n",
    "#Set Chartting Style\n",
    "sns.set(style=\"whitegrid\")\n",
    "\n",
    "#Setting figure size for visuals\n",
    "fig_size = plt.rcParams[\"figure.figsize\"]\n",
    "fig_size[0] = 10\n",
    "fig_size[1] = 6\n",
    "\n",
    "#GDP Percent Idustry by county & year 1970-2017 \n",
    "gdp_industry = pd.read_csv('industry_percent_of_gdp.csv')\n",
    "\n",
    "#Viewing GDP Industry Data\n",
    "gdp_industry.head()"
   ]
  },
  {
   "cell_type": "markdown",
   "metadata": {},
   "source": [
    "<font color=#303F9F>You’ll notice the use of “.head()” quite extensively this is just for saving space.</font>"
   ]
  },
  {
   "cell_type": "code",
   "execution_count": 16,
   "metadata": {},
   "outputs": [
    {
     "data": {
      "text/plain": [
       "(189, 59)"
      ]
     },
     "execution_count": 16,
     "metadata": {},
     "output_type": "execute_result"
    }
   ],
   "source": [
    "#Investigate the data 189 Row & 59 Columns\n",
    "gdp_industry.shape"
   ]
  },
  {
   "cell_type": "code",
   "execution_count": 17,
   "metadata": {},
   "outputs": [
    {
     "data": {
      "text/plain": [
       "country     object\n",
       "1960       float64\n",
       "1961       float64\n",
       "1962       float64\n",
       "1963       float64\n",
       "dtype: object"
      ]
     },
     "execution_count": 17,
     "metadata": {},
     "output_type": "execute_result"
    }
   ],
   "source": [
    "#Investigate the data types we don't want an INT or Float to be a String.\n",
    "gdp_industry.dtypes.head()"
   ]
  },
  {
   "cell_type": "code",
   "execution_count": 18,
   "metadata": {},
   "outputs": [
    {
     "data": {
      "text/plain": [
       "country      0\n",
       "1960       149\n",
       "1961       147\n",
       "1962       147\n",
       "1963       145\n",
       "dtype: int64"
      ]
     },
     "execution_count": 18,
     "metadata": {},
     "output_type": "execute_result"
    }
   ],
   "source": [
    "#Investigate null records\n",
    "gdp_industry.isnull().sum().head()"
   ]
  },
  {
   "cell_type": "code",
   "execution_count": 19,
   "metadata": {},
   "outputs": [
    {
     "data": {
      "text/plain": [
       "0"
      ]
     },
     "execution_count": 19,
     "metadata": {},
     "output_type": "execute_result"
    }
   ],
   "source": [
    "#Investigate duplicate records\n",
    "gdp_industry.duplicated().sum()"
   ]
  },
  {
   "cell_type": "code",
   "execution_count": 20,
   "metadata": {},
   "outputs": [
    {
     "data": {
      "text/plain": [
       "country    189\n",
       "1960        37\n",
       "1961        39\n",
       "1962        39\n",
       "1963        42\n",
       "dtype: int64"
      ]
     },
     "execution_count": 20,
     "metadata": {},
     "output_type": "execute_result"
    }
   ],
   "source": [
    "#Investigate number of unique values in each column\n",
    "gdp_industry.nunique().head()"
   ]
  },
  {
   "cell_type": "code",
   "execution_count": 21,
   "metadata": {},
   "outputs": [
    {
     "data": {
      "text/html": [
       "<div>\n",
       "<style scoped>\n",
       "    .dataframe tbody tr th:only-of-type {\n",
       "        vertical-align: middle;\n",
       "    }\n",
       "\n",
       "    .dataframe tbody tr th {\n",
       "        vertical-align: top;\n",
       "    }\n",
       "\n",
       "    .dataframe thead th {\n",
       "        text-align: right;\n",
       "    }\n",
       "</style>\n",
       "<table border=\"1\" class=\"dataframe\">\n",
       "  <thead>\n",
       "    <tr style=\"text-align: right;\">\n",
       "      <th></th>\n",
       "      <th>1960</th>\n",
       "      <th>1961</th>\n",
       "      <th>1962</th>\n",
       "      <th>1963</th>\n",
       "      <th>1964</th>\n",
       "      <th>1965</th>\n",
       "      <th>1966</th>\n",
       "      <th>1967</th>\n",
       "      <th>1968</th>\n",
       "      <th>1969</th>\n",
       "      <th>...</th>\n",
       "      <th>2008</th>\n",
       "      <th>2009</th>\n",
       "      <th>2010</th>\n",
       "      <th>2011</th>\n",
       "      <th>2012</th>\n",
       "      <th>2013</th>\n",
       "      <th>2014</th>\n",
       "      <th>2015</th>\n",
       "      <th>2016</th>\n",
       "      <th>2017</th>\n",
       "    </tr>\n",
       "  </thead>\n",
       "  <tbody>\n",
       "    <tr>\n",
       "      <td>count</td>\n",
       "      <td>40.000000</td>\n",
       "      <td>42.000000</td>\n",
       "      <td>42.000000</td>\n",
       "      <td>44.000000</td>\n",
       "      <td>46.000000</td>\n",
       "      <td>64.000000</td>\n",
       "      <td>67.000000</td>\n",
       "      <td>68.000000</td>\n",
       "      <td>71.000000</td>\n",
       "      <td>72.000000</td>\n",
       "      <td>...</td>\n",
       "      <td>183.000000</td>\n",
       "      <td>182.000000</td>\n",
       "      <td>182.000000</td>\n",
       "      <td>182.000000</td>\n",
       "      <td>182.000000</td>\n",
       "      <td>184.000000</td>\n",
       "      <td>183.000000</td>\n",
       "      <td>180.000000</td>\n",
       "      <td>172.000000</td>\n",
       "      <td>143.000000</td>\n",
       "    </tr>\n",
       "    <tr>\n",
       "      <td>mean</td>\n",
       "      <td>21.634750</td>\n",
       "      <td>21.168333</td>\n",
       "      <td>21.495952</td>\n",
       "      <td>21.726364</td>\n",
       "      <td>22.810000</td>\n",
       "      <td>23.162031</td>\n",
       "      <td>23.608358</td>\n",
       "      <td>24.190147</td>\n",
       "      <td>25.969577</td>\n",
       "      <td>26.510556</td>\n",
       "      <td>...</td>\n",
       "      <td>28.808962</td>\n",
       "      <td>26.918846</td>\n",
       "      <td>27.405000</td>\n",
       "      <td>27.987308</td>\n",
       "      <td>27.575385</td>\n",
       "      <td>27.161902</td>\n",
       "      <td>26.761093</td>\n",
       "      <td>25.313111</td>\n",
       "      <td>25.444012</td>\n",
       "      <td>25.558881</td>\n",
       "    </tr>\n",
       "    <tr>\n",
       "      <td>std</td>\n",
       "      <td>11.788776</td>\n",
       "      <td>11.119577</td>\n",
       "      <td>10.772185</td>\n",
       "      <td>11.372218</td>\n",
       "      <td>11.094791</td>\n",
       "      <td>10.429661</td>\n",
       "      <td>10.963123</td>\n",
       "      <td>11.193915</td>\n",
       "      <td>13.261669</td>\n",
       "      <td>13.551786</td>\n",
       "      <td>...</td>\n",
       "      <td>15.328911</td>\n",
       "      <td>13.772216</td>\n",
       "      <td>14.453821</td>\n",
       "      <td>14.973004</td>\n",
       "      <td>14.872196</td>\n",
       "      <td>14.142741</td>\n",
       "      <td>13.365268</td>\n",
       "      <td>11.700071</td>\n",
       "      <td>11.389337</td>\n",
       "      <td>9.951863</td>\n",
       "    </tr>\n",
       "    <tr>\n",
       "      <td>min</td>\n",
       "      <td>3.890000</td>\n",
       "      <td>3.450000</td>\n",
       "      <td>3.520000</td>\n",
       "      <td>2.370000</td>\n",
       "      <td>3.600000</td>\n",
       "      <td>3.470000</td>\n",
       "      <td>3.720000</td>\n",
       "      <td>4.430000</td>\n",
       "      <td>4.850000</td>\n",
       "      <td>5.240000</td>\n",
       "      <td>...</td>\n",
       "      <td>3.770000</td>\n",
       "      <td>5.010000</td>\n",
       "      <td>5.000000</td>\n",
       "      <td>5.820000</td>\n",
       "      <td>3.330000</td>\n",
       "      <td>2.690000</td>\n",
       "      <td>2.530000</td>\n",
       "      <td>2.070000</td>\n",
       "      <td>2.320000</td>\n",
       "      <td>2.310000</td>\n",
       "    </tr>\n",
       "    <tr>\n",
       "      <td>25%</td>\n",
       "      <td>13.250000</td>\n",
       "      <td>12.950000</td>\n",
       "      <td>14.050000</td>\n",
       "      <td>13.850000</td>\n",
       "      <td>15.550000</td>\n",
       "      <td>16.925000</td>\n",
       "      <td>16.700000</td>\n",
       "      <td>15.350000</td>\n",
       "      <td>17.250000</td>\n",
       "      <td>18.375000</td>\n",
       "      <td>...</td>\n",
       "      <td>19.050000</td>\n",
       "      <td>18.625000</td>\n",
       "      <td>18.025000</td>\n",
       "      <td>18.950000</td>\n",
       "      <td>18.450000</td>\n",
       "      <td>18.175000</td>\n",
       "      <td>18.600000</td>\n",
       "      <td>17.775000</td>\n",
       "      <td>18.000000</td>\n",
       "      <td>18.550000</td>\n",
       "    </tr>\n",
       "    <tr>\n",
       "      <td>50%</td>\n",
       "      <td>18.600000</td>\n",
       "      <td>18.600000</td>\n",
       "      <td>19.900000</td>\n",
       "      <td>19.900000</td>\n",
       "      <td>21.450000</td>\n",
       "      <td>22.400000</td>\n",
       "      <td>22.400000</td>\n",
       "      <td>23.000000</td>\n",
       "      <td>23.800000</td>\n",
       "      <td>24.100000</td>\n",
       "      <td>...</td>\n",
       "      <td>25.900000</td>\n",
       "      <td>24.500000</td>\n",
       "      <td>24.950000</td>\n",
       "      <td>25.050000</td>\n",
       "      <td>24.550000</td>\n",
       "      <td>25.050000</td>\n",
       "      <td>24.700000</td>\n",
       "      <td>24.250000</td>\n",
       "      <td>24.400000</td>\n",
       "      <td>24.800000</td>\n",
       "    </tr>\n",
       "    <tr>\n",
       "      <td>75%</td>\n",
       "      <td>28.500000</td>\n",
       "      <td>28.025000</td>\n",
       "      <td>29.725000</td>\n",
       "      <td>29.300000</td>\n",
       "      <td>30.525000</td>\n",
       "      <td>29.900000</td>\n",
       "      <td>29.750000</td>\n",
       "      <td>29.650000</td>\n",
       "      <td>31.850000</td>\n",
       "      <td>34.675000</td>\n",
       "      <td>...</td>\n",
       "      <td>34.200000</td>\n",
       "      <td>31.700000</td>\n",
       "      <td>32.275000</td>\n",
       "      <td>32.200000</td>\n",
       "      <td>32.300000</td>\n",
       "      <td>31.350000</td>\n",
       "      <td>31.400000</td>\n",
       "      <td>30.075000</td>\n",
       "      <td>30.125000</td>\n",
       "      <td>30.200000</td>\n",
       "    </tr>\n",
       "    <tr>\n",
       "      <td>max</td>\n",
       "      <td>62.200000</td>\n",
       "      <td>59.400000</td>\n",
       "      <td>58.000000</td>\n",
       "      <td>57.700000</td>\n",
       "      <td>58.100000</td>\n",
       "      <td>53.800000</td>\n",
       "      <td>58.800000</td>\n",
       "      <td>52.600000</td>\n",
       "      <td>73.800000</td>\n",
       "      <td>77.200000</td>\n",
       "      <td>...</td>\n",
       "      <td>85.700000</td>\n",
       "      <td>96.600000</td>\n",
       "      <td>94.800000</td>\n",
       "      <td>83.500000</td>\n",
       "      <td>84.200000</td>\n",
       "      <td>79.800000</td>\n",
       "      <td>70.500000</td>\n",
       "      <td>61.400000</td>\n",
       "      <td>91.200000</td>\n",
       "      <td>59.700000</td>\n",
       "    </tr>\n",
       "  </tbody>\n",
       "</table>\n",
       "<p>8 rows × 58 columns</p>\n",
       "</div>"
      ],
      "text/plain": [
       "            1960       1961       1962       1963       1964       1965  \\\n",
       "count  40.000000  42.000000  42.000000  44.000000  46.000000  64.000000   \n",
       "mean   21.634750  21.168333  21.495952  21.726364  22.810000  23.162031   \n",
       "std    11.788776  11.119577  10.772185  11.372218  11.094791  10.429661   \n",
       "min     3.890000   3.450000   3.520000   2.370000   3.600000   3.470000   \n",
       "25%    13.250000  12.950000  14.050000  13.850000  15.550000  16.925000   \n",
       "50%    18.600000  18.600000  19.900000  19.900000  21.450000  22.400000   \n",
       "75%    28.500000  28.025000  29.725000  29.300000  30.525000  29.900000   \n",
       "max    62.200000  59.400000  58.000000  57.700000  58.100000  53.800000   \n",
       "\n",
       "            1966       1967       1968       1969  ...        2008  \\\n",
       "count  67.000000  68.000000  71.000000  72.000000  ...  183.000000   \n",
       "mean   23.608358  24.190147  25.969577  26.510556  ...   28.808962   \n",
       "std    10.963123  11.193915  13.261669  13.551786  ...   15.328911   \n",
       "min     3.720000   4.430000   4.850000   5.240000  ...    3.770000   \n",
       "25%    16.700000  15.350000  17.250000  18.375000  ...   19.050000   \n",
       "50%    22.400000  23.000000  23.800000  24.100000  ...   25.900000   \n",
       "75%    29.750000  29.650000  31.850000  34.675000  ...   34.200000   \n",
       "max    58.800000  52.600000  73.800000  77.200000  ...   85.700000   \n",
       "\n",
       "             2009        2010        2011        2012        2013        2014  \\\n",
       "count  182.000000  182.000000  182.000000  182.000000  184.000000  183.000000   \n",
       "mean    26.918846   27.405000   27.987308   27.575385   27.161902   26.761093   \n",
       "std     13.772216   14.453821   14.973004   14.872196   14.142741   13.365268   \n",
       "min      5.010000    5.000000    5.820000    3.330000    2.690000    2.530000   \n",
       "25%     18.625000   18.025000   18.950000   18.450000   18.175000   18.600000   \n",
       "50%     24.500000   24.950000   25.050000   24.550000   25.050000   24.700000   \n",
       "75%     31.700000   32.275000   32.200000   32.300000   31.350000   31.400000   \n",
       "max     96.600000   94.800000   83.500000   84.200000   79.800000   70.500000   \n",
       "\n",
       "             2015        2016        2017  \n",
       "count  180.000000  172.000000  143.000000  \n",
       "mean    25.313111   25.444012   25.558881  \n",
       "std     11.700071   11.389337    9.951863  \n",
       "min      2.070000    2.320000    2.310000  \n",
       "25%     17.775000   18.000000   18.550000  \n",
       "50%     24.250000   24.400000   24.800000  \n",
       "75%     30.075000   30.125000   30.200000  \n",
       "max     61.400000   91.200000   59.700000  \n",
       "\n",
       "[8 rows x 58 columns]"
      ]
     },
     "execution_count": 21,
     "metadata": {},
     "output_type": "execute_result"
    }
   ],
   "source": [
    "#Generate descriptive statistics that summarize the central tendency, dispersion and shape of a dataset’s distribution.\n",
    "gdp_industry.describe()"
   ]
  },
  {
   "cell_type": "markdown",
   "metadata": {},
   "source": [
    "<font color=#303F9F>We run into a problem with year being in the header. This makes it difficult to work with the data set. Luckily there is a function called “MELT” in the pandas library that will place all dates within a new column.</font>"
   ]
  },
  {
   "cell_type": "code",
   "execution_count": 22,
   "metadata": {},
   "outputs": [
    {
     "data": {
      "text/html": [
       "<div>\n",
       "<style scoped>\n",
       "    .dataframe tbody tr th:only-of-type {\n",
       "        vertical-align: middle;\n",
       "    }\n",
       "\n",
       "    .dataframe tbody tr th {\n",
       "        vertical-align: top;\n",
       "    }\n",
       "\n",
       "    .dataframe thead th {\n",
       "        text-align: right;\n",
       "    }\n",
       "</style>\n",
       "<table border=\"1\" class=\"dataframe\">\n",
       "  <thead>\n",
       "    <tr style=\"text-align: right;\">\n",
       "      <th></th>\n",
       "      <th>country</th>\n",
       "      <th>year</th>\n",
       "      <th>gdp</th>\n",
       "    </tr>\n",
       "  </thead>\n",
       "  <tbody>\n",
       "    <tr>\n",
       "      <td>0</td>\n",
       "      <td>Afghanistan</td>\n",
       "      <td>1960</td>\n",
       "      <td>NaN</td>\n",
       "    </tr>\n",
       "    <tr>\n",
       "      <td>1</td>\n",
       "      <td>Albania</td>\n",
       "      <td>1960</td>\n",
       "      <td>NaN</td>\n",
       "    </tr>\n",
       "    <tr>\n",
       "      <td>2</td>\n",
       "      <td>Algeria</td>\n",
       "      <td>1960</td>\n",
       "      <td>29.4</td>\n",
       "    </tr>\n",
       "    <tr>\n",
       "      <td>3</td>\n",
       "      <td>Andorra</td>\n",
       "      <td>1960</td>\n",
       "      <td>NaN</td>\n",
       "    </tr>\n",
       "    <tr>\n",
       "      <td>4</td>\n",
       "      <td>Angola</td>\n",
       "      <td>1960</td>\n",
       "      <td>NaN</td>\n",
       "    </tr>\n",
       "  </tbody>\n",
       "</table>\n",
       "</div>"
      ],
      "text/plain": [
       "       country  year   gdp\n",
       "0  Afghanistan  1960   NaN\n",
       "1      Albania  1960   NaN\n",
       "2      Algeria  1960  29.4\n",
       "3      Andorra  1960   NaN\n",
       "4       Angola  1960   NaN"
      ]
     },
     "execution_count": 22,
     "metadata": {},
     "output_type": "execute_result"
    }
   ],
   "source": [
    "#using padas melt function to organize and relable the data. The year being in the header to the year being a column.\n",
    "gdp_industry_cleaner = pd.melt(gdp_industry, id_vars=['country'],var_name='year', value_name='gdp')\n",
    "gdp_industry_cleaner.head()"
   ]
  },
  {
   "cell_type": "code",
   "execution_count": 23,
   "metadata": {},
   "outputs": [
    {
     "data": {
      "text/plain": [
       "country     object\n",
       "year         int32\n",
       "gdp        float64\n",
       "dtype: object"
      ]
     },
     "execution_count": 23,
     "metadata": {},
     "output_type": "execute_result"
    }
   ],
   "source": [
    "gdp_industry_cleaner.dtypes\n",
    "gdp_industry_cleaner['year'] = gdp_industry_cleaner['year'].astype(int)\n",
    "gdp_industry_cleaner.dtypes"
   ]
  },
  {
   "cell_type": "markdown",
   "metadata": {},
   "source": [
    "<a id='eda'></a>\n",
    "\n",
    "<font color=#303F9F>Running queries for our desired countries we are able to create a line chart visualization. </font>\n",
    "<p>\n",
    "<li><font color=green>Luxembourg</li></font>\n",
    "<li><font color=blue>Norway</li></font>\n",
    "<li><font color=red>Denmark</li></font>\n",
    "<li><font color=gold>Sweden</li></font>\n",
    "<li><font color=#81D4FA>Australia</li></font>"
   ]
  },
  {
   "cell_type": "code",
   "execution_count": 24,
   "metadata": {},
   "outputs": [],
   "source": [
    "#Query the desired countries Python 3.7/pandas updated\n",
    "#lu = gdp_industry_cleaner.query('country.str.contains(\"Luxembourg\")')\n",
    "#no = gdp_industry_cleaner.query('country.str.contains(\"Norway\")')\n",
    "#dk = gdp_industry_cleaner.query('country.str.contains(\"Denmark\")')\n",
    "#se = gdp_industry_cleaner.query('country.str.contains(\"Sweden\")')\n",
    "#au = gdp_industry_cleaner.query('country.str.contains(\"Australia\")')\n",
    "\n",
    "#Query the desired countries\n",
    "lu = gdp_industry_cleaner[gdp_industry_cleaner['country'].str.contains(\"Luxembourg\")]\n",
    "no = gdp_industry_cleaner[gdp_industry_cleaner['country'].str.contains(\"Norway\")]\n",
    "dk = gdp_industry_cleaner[gdp_industry_cleaner['country'].str.contains(\"Denmark\")]\n",
    "se = gdp_industry_cleaner[gdp_industry_cleaner['country'].str.contains(\"Sweden\")]\n",
    "au = gdp_industry_cleaner[gdp_industry_cleaner['country'].str.contains(\"Australia\")]\n"
   ]
  },
  {
   "cell_type": "markdown",
   "metadata": {},
   "source": [
    "<font color=#303F9F>Create A Line Chart </font>"
   ]
  },
  {
   "cell_type": "code",
   "execution_count": 25,
   "metadata": {},
   "outputs": [
    {
     "data": {
      "image/png": "[encoded data removed]",
      "text/plain": [
       "<Figure size 720x432 with 1 Axes>"
      ]
     },
     "metadata": {},
     "output_type": "display_data"
    }
   ],
   "source": [
    "#Line Chart For GDP % Industry 1970-2017\n",
    "def gdp_industry_line_chart():\n",
    "    \n",
    "    sns.set(style=\"whitegrid\")\n",
    "    year = list(range(1960, 2018))\n",
    "    lu_gdp = lu['gdp']\n",
    "    no_gdp = no['gdp']\n",
    "    dk_gdp = dk['gdp']\n",
    "    se_gdp = se['gdp']\n",
    "    au_gdp = au['gdp']\n",
    "\n",
    "    plt.plot(year, lu_gdp, color='g', label='Luxembourg')\n",
    "    plt.plot(year, no_gdp, color='b', label='Norway')\n",
    "    plt.plot(year, dk_gdp, color='r', label='Denmark')\n",
    "    plt.plot(year, se_gdp, color='y', label='Sweden')\n",
    "    plt.plot(year, au_gdp, color='c', label='Australia')\n",
    "\n",
    "    plt.legend(loc='upper left')\n",
    "    plt.xlabel('Year')\n",
    "    plt.ylabel('Percentage of GDP')\n",
    "    plt.title('Overall Percentage of GDP in Industry')\n",
    "    return plt.show()\n",
    "\n",
    "gdp_industry_line_chart()"
   ]
  },
  {
   "cell_type": "markdown",
   "metadata": {},
   "source": [
    "<font color=#303F9F>Lets take a look at Norway based on a box plot. The reason for doing this is because we have extensive data. It is also interesting that from 1970 to 2017 Norway has increased as an industrial nation. All other nations have been on the decline.</font>"
   ]
  },
  {
   "cell_type": "code",
   "execution_count": 26,
   "metadata": {},
   "outputs": [
    {
     "data": {
      "image/png": "[encoded data removed]",
      "text/plain": [
       "<Figure size 720x432 with 1 Axes>"
      ]
     },
     "metadata": {},
     "output_type": "display_data"
    }
   ],
   "source": [
    "def gdp_percent_industry_norway_box():\n",
    "    \n",
    "    #lu.plot.box(x= 'year', y= 'gdp', title= 'Luxembourg Industry GDP Box Plot');\n",
    "    no.plot.box(x= 'year', y= 'gdp', title= 'Norway Overall Industry GDP 1970-2017 Box Plot',patch_artist=True, label='Norway')\n",
    "    plt.legend(no.country.iloc[0:1])\n",
    "    plt.ylabel('Percentage Of GDP')\n",
    "    return plt.show()\n",
    "    #dk.plot.box(x= 'year', y= 'gdp', title= 'Denmark Industry GDP Box Plot');\n",
    "    #se.plot.box(x= 'year', y= 'gdp', title= 'Sweden Industry GDP Box Plot');\n",
    "    #au.plot.box(x= 'year', y= 'gdp', title= 'Australia Industry GDP Box Plot');\n",
    "    \n",
    "gdp_percent_industry_norway_box();"
   ]
  },
  {
   "cell_type": "code",
   "execution_count": 27,
   "metadata": {},
   "outputs": [
    {
     "data": {
      "text/plain": [
       "125    Norway\n",
       "Name: country, dtype: object"
      ]
     },
     "execution_count": 27,
     "metadata": {},
     "output_type": "execute_result"
    }
   ],
   "source": [
    "no.country.iloc[0:1]"
   ]
  }
 ],
 "metadata": {
  "kernelspec": {
   "display_name": "Python 3",
   "language": "python",
   "name": "python3"
  },
  "language_info": {
   "codemirror_mode": {
    "name": "ipython",
    "version": 3
   },
   "file_extension": ".py",
   "mimetype": "text/x-python",
   "name": "python",
   "nbconvert_exporter": "python",
   "pygments_lexer": "ipython3",
   "version": "3.7.4"
  }
 },
 "nbformat": 4,
 "nbformat_minor": 2
}
