{
 "cells": [
  {
   "cell_type": "markdown",
   "metadata": {},
   "source": [
    "# Average Years In School Women Age 15-24\n",
    "\n",
    "## Table of Contents\n",
    "<ul>\n",
    "<li><a href=\"#intro\">Introduction</a></li>\n",
    "<li><a href=\"#wrangling\">Data Wrangling</a></li>\n",
    "<li><a href=\"#eda\">Exploratory Data Analysis</a></li>\n",
    "</ul>"
   ]
  },
  {
   "cell_type": "markdown",
   "metadata": {},
   "source": [
    "<a id='intro'></a>\n",
    "\n",
    "<font color=#303F9F>This part of the project for \"Investigating Country GDP and Education\" will focus on the average years spent in school women aged 15 to 24. Choosing to investigage the top GDP/Capita countries above the mean.</font>\n",
    "<p>\n",
    "<li><font color=green>Luxembourg</li></font>\n",
    "<li><font color=blue>Norway</li></font>\n",
    "<li><font color=red>Denmark</li></font>\n",
    "<li><font color=gold>Sweden</li></font>\n",
    "<li><font color=#81D4FA>Australia</li></font>"
   ]
  },
  {
   "cell_type": "markdown",
   "metadata": {},
   "source": [
    "<a id='wrangling'></a>\n",
    "# Lets Do Some Wrangling and Oganizing.\n",
    "\n",
    "<font color=#303F9F>We start by importing all of our necessary libraries and the data we want to analyze \"mean_years_in_school_women_15_to_24_years.csv\".</font>\n",
    "<p>\n",
    "<font color=#303F9F><li>Pandas to help us wrangle and organize our data</li></font>\n",
    "<font color=#303F9F><li>Matplotlib to create beautiful visualizations</li></font>\n",
    "<font color=#303F9F><li>Seaborn for visualization styling</li></font>\n",
    "<font color=#303F9F><li>Numpy to help with scientific computing</li></font>\n"
   ]
  },
  {
   "cell_type": "code",
   "execution_count": 43,
   "metadata": {},
   "outputs": [],
   "source": [
    "import pandas as pd\n",
    "import matplotlib.pyplot as plt\n",
    "import seaborn as sns\n",
    "%matplotlib inline\n",
    "\n",
    "#Set Chartting Style\n",
    "sns.set(style=\"whitegrid\")\n",
    "\n",
    "#Setting figure size for visuals\n",
    "fig_size = plt.rcParams[\"figure.figsize\"]\n",
    "fig_size[0] = 12\n",
    "fig_size[1] = 9\n",
    "\n",
    "#Average years in school women aged 15-24\n",
    "df_women = pd.read_csv('mean_years_in_school_women_15_to_24_years.csv')"
   ]
  },
  {
   "cell_type": "code",
   "execution_count": 44,
   "metadata": {},
   "outputs": [
    {
     "data": {
      "text/html": [
       "<div>\n",
       "<style scoped>\n",
       "    .dataframe tbody tr th:only-of-type {\n",
       "        vertical-align: middle;\n",
       "    }\n",
       "\n",
       "    .dataframe tbody tr th {\n",
       "        vertical-align: top;\n",
       "    }\n",
       "\n",
       "    .dataframe thead th {\n",
       "        text-align: right;\n",
       "    }\n",
       "</style>\n",
       "<table border=\"1\" class=\"dataframe\">\n",
       "  <thead>\n",
       "    <tr style=\"text-align: right;\">\n",
       "      <th></th>\n",
       "      <th>country</th>\n",
       "      <th>1970</th>\n",
       "      <th>1971</th>\n",
       "      <th>1972</th>\n",
       "      <th>1973</th>\n",
       "      <th>1974</th>\n",
       "      <th>1975</th>\n",
       "      <th>1976</th>\n",
       "      <th>1977</th>\n",
       "      <th>1978</th>\n",
       "      <th>...</th>\n",
       "      <th>2006</th>\n",
       "      <th>2007</th>\n",
       "      <th>2008</th>\n",
       "      <th>2009</th>\n",
       "      <th>2010</th>\n",
       "      <th>2011</th>\n",
       "      <th>2012</th>\n",
       "      <th>2013</th>\n",
       "      <th>2014</th>\n",
       "      <th>2015</th>\n",
       "    </tr>\n",
       "  </thead>\n",
       "  <tbody>\n",
       "    <tr>\n",
       "      <td>0</td>\n",
       "      <td>Afghanistan</td>\n",
       "      <td>0.48</td>\n",
       "      <td>0.50</td>\n",
       "      <td>0.51</td>\n",
       "      <td>0.53</td>\n",
       "      <td>0.55</td>\n",
       "      <td>0.57</td>\n",
       "      <td>0.59</td>\n",
       "      <td>0.61</td>\n",
       "      <td>0.63</td>\n",
       "      <td>...</td>\n",
       "      <td>1.60</td>\n",
       "      <td>1.66</td>\n",
       "      <td>1.71</td>\n",
       "      <td>1.77</td>\n",
       "      <td>1.82</td>\n",
       "      <td>1.88</td>\n",
       "      <td>1.94</td>\n",
       "      <td>2.00</td>\n",
       "      <td>2.07</td>\n",
       "      <td>2.13</td>\n",
       "    </tr>\n",
       "    <tr>\n",
       "      <td>1</td>\n",
       "      <td>Albania</td>\n",
       "      <td>4.99</td>\n",
       "      <td>5.11</td>\n",
       "      <td>5.24</td>\n",
       "      <td>5.36</td>\n",
       "      <td>5.49</td>\n",
       "      <td>5.62</td>\n",
       "      <td>5.75</td>\n",
       "      <td>5.88</td>\n",
       "      <td>6.02</td>\n",
       "      <td>...</td>\n",
       "      <td>10.20</td>\n",
       "      <td>10.40</td>\n",
       "      <td>10.50</td>\n",
       "      <td>10.70</td>\n",
       "      <td>10.90</td>\n",
       "      <td>11.00</td>\n",
       "      <td>11.20</td>\n",
       "      <td>11.40</td>\n",
       "      <td>11.50</td>\n",
       "      <td>11.70</td>\n",
       "    </tr>\n",
       "    <tr>\n",
       "      <td>2</td>\n",
       "      <td>Algeria</td>\n",
       "      <td>3.61</td>\n",
       "      <td>3.71</td>\n",
       "      <td>3.82</td>\n",
       "      <td>3.93</td>\n",
       "      <td>4.04</td>\n",
       "      <td>4.15</td>\n",
       "      <td>4.27</td>\n",
       "      <td>4.39</td>\n",
       "      <td>4.51</td>\n",
       "      <td>...</td>\n",
       "      <td>8.78</td>\n",
       "      <td>8.94</td>\n",
       "      <td>9.11</td>\n",
       "      <td>9.28</td>\n",
       "      <td>9.45</td>\n",
       "      <td>9.62</td>\n",
       "      <td>9.78</td>\n",
       "      <td>9.95</td>\n",
       "      <td>10.10</td>\n",
       "      <td>10.30</td>\n",
       "    </tr>\n",
       "    <tr>\n",
       "      <td>3</td>\n",
       "      <td>Andorra</td>\n",
       "      <td>9.50</td>\n",
       "      <td>9.67</td>\n",
       "      <td>9.84</td>\n",
       "      <td>10.00</td>\n",
       "      <td>10.20</td>\n",
       "      <td>10.30</td>\n",
       "      <td>10.50</td>\n",
       "      <td>10.70</td>\n",
       "      <td>10.80</td>\n",
       "      <td>...</td>\n",
       "      <td>15.00</td>\n",
       "      <td>15.10</td>\n",
       "      <td>15.30</td>\n",
       "      <td>15.40</td>\n",
       "      <td>15.50</td>\n",
       "      <td>15.60</td>\n",
       "      <td>15.70</td>\n",
       "      <td>15.80</td>\n",
       "      <td>16.00</td>\n",
       "      <td>16.10</td>\n",
       "    </tr>\n",
       "    <tr>\n",
       "      <td>4</td>\n",
       "      <td>Angola</td>\n",
       "      <td>1.64</td>\n",
       "      <td>1.69</td>\n",
       "      <td>1.74</td>\n",
       "      <td>1.80</td>\n",
       "      <td>1.85</td>\n",
       "      <td>1.91</td>\n",
       "      <td>1.97</td>\n",
       "      <td>2.03</td>\n",
       "      <td>2.10</td>\n",
       "      <td>...</td>\n",
       "      <td>4.77</td>\n",
       "      <td>4.90</td>\n",
       "      <td>5.03</td>\n",
       "      <td>5.16</td>\n",
       "      <td>5.30</td>\n",
       "      <td>5.43</td>\n",
       "      <td>5.57</td>\n",
       "      <td>5.71</td>\n",
       "      <td>5.85</td>\n",
       "      <td>6.00</td>\n",
       "    </tr>\n",
       "  </tbody>\n",
       "</table>\n",
       "<p>5 rows × 47 columns</p>\n",
       "</div>"
      ],
      "text/plain": [
       "       country  1970  1971  1972   1973   1974   1975   1976   1977   1978  \\\n",
       "0  Afghanistan  0.48  0.50  0.51   0.53   0.55   0.57   0.59   0.61   0.63   \n",
       "1      Albania  4.99  5.11  5.24   5.36   5.49   5.62   5.75   5.88   6.02   \n",
       "2      Algeria  3.61  3.71  3.82   3.93   4.04   4.15   4.27   4.39   4.51   \n",
       "3      Andorra  9.50  9.67  9.84  10.00  10.20  10.30  10.50  10.70  10.80   \n",
       "4       Angola  1.64  1.69  1.74   1.80   1.85   1.91   1.97   2.03   2.10   \n",
       "\n",
       "   ...   2006   2007   2008   2009   2010   2011   2012   2013   2014   2015  \n",
       "0  ...   1.60   1.66   1.71   1.77   1.82   1.88   1.94   2.00   2.07   2.13  \n",
       "1  ...  10.20  10.40  10.50  10.70  10.90  11.00  11.20  11.40  11.50  11.70  \n",
       "2  ...   8.78   8.94   9.11   9.28   9.45   9.62   9.78   9.95  10.10  10.30  \n",
       "3  ...  15.00  15.10  15.30  15.40  15.50  15.60  15.70  15.80  16.00  16.10  \n",
       "4  ...   4.77   4.90   5.03   5.16   5.30   5.43   5.57   5.71   5.85   6.00  \n",
       "\n",
       "[5 rows x 47 columns]"
      ]
     },
     "execution_count": 44,
     "metadata": {},
     "output_type": "execute_result"
    }
   ],
   "source": [
    "#Viewing the data from mean years in school Women aged 15-24\n",
    "df_women.head()"
   ]
  },
  {
   "cell_type": "markdown",
   "metadata": {},
   "source": [
    "<font color=#303F9F>You’ll notice the use of “.head()” quite extensively this is just for saving space.</font>"
   ]
  },
  {
   "cell_type": "code",
   "execution_count": 45,
   "metadata": {},
   "outputs": [
    {
     "data": {
      "text/plain": [
       "(187, 47)"
      ]
     },
     "execution_count": 45,
     "metadata": {},
     "output_type": "execute_result"
    }
   ],
   "source": [
    "#view records for samples & columns\n",
    "df_women.shape"
   ]
  },
  {
   "cell_type": "code",
   "execution_count": 46,
   "metadata": {},
   "outputs": [
    {
     "data": {
      "text/plain": [
       "0"
      ]
     },
     "execution_count": 46,
     "metadata": {},
     "output_type": "execute_result"
    }
   ],
   "source": [
    "#view duplicate records\n",
    "df_women.duplicated().sum()"
   ]
  },
  {
   "cell_type": "code",
   "execution_count": 47,
   "metadata": {},
   "outputs": [
    {
     "data": {
      "text/plain": [
       "country    0\n",
       "1970       0\n",
       "1971       0\n",
       "1972       0\n",
       "1973       0\n",
       "dtype: int64"
      ]
     },
     "execution_count": 47,
     "metadata": {},
     "output_type": "execute_result"
    }
   ],
   "source": [
    "#Check null records\n",
    "df_women.isnull().sum().head()"
   ]
  },
  {
   "cell_type": "markdown",
   "metadata": {},
   "source": [
    "<font color=#303F9F>We run into a problem with year being in the header. This makes it difficult to work with the data set. Luckily there is a function called “MELT” in the pandas library that will place all dates within a new column.</font>\n"
   ]
  },
  {
   "cell_type": "code",
   "execution_count": 48,
   "metadata": {},
   "outputs": [
    {
     "data": {
      "text/html": [
       "<div>\n",
       "<style scoped>\n",
       "    .dataframe tbody tr th:only-of-type {\n",
       "        vertical-align: middle;\n",
       "    }\n",
       "\n",
       "    .dataframe tbody tr th {\n",
       "        vertical-align: top;\n",
       "    }\n",
       "\n",
       "    .dataframe thead th {\n",
       "        text-align: right;\n",
       "    }\n",
       "</style>\n",
       "<table border=\"1\" class=\"dataframe\">\n",
       "  <thead>\n",
       "    <tr style=\"text-align: right;\">\n",
       "      <th></th>\n",
       "      <th>country</th>\n",
       "      <th>year</th>\n",
       "      <th>education</th>\n",
       "    </tr>\n",
       "  </thead>\n",
       "  <tbody>\n",
       "    <tr>\n",
       "      <td>0</td>\n",
       "      <td>Afghanistan</td>\n",
       "      <td>1970</td>\n",
       "      <td>0.48</td>\n",
       "    </tr>\n",
       "    <tr>\n",
       "      <td>1</td>\n",
       "      <td>Albania</td>\n",
       "      <td>1970</td>\n",
       "      <td>4.99</td>\n",
       "    </tr>\n",
       "    <tr>\n",
       "      <td>2</td>\n",
       "      <td>Algeria</td>\n",
       "      <td>1970</td>\n",
       "      <td>3.61</td>\n",
       "    </tr>\n",
       "    <tr>\n",
       "      <td>3</td>\n",
       "      <td>Andorra</td>\n",
       "      <td>1970</td>\n",
       "      <td>9.50</td>\n",
       "    </tr>\n",
       "    <tr>\n",
       "      <td>4</td>\n",
       "      <td>Angola</td>\n",
       "      <td>1970</td>\n",
       "      <td>1.64</td>\n",
       "    </tr>\n",
       "  </tbody>\n",
       "</table>\n",
       "</div>"
      ],
      "text/plain": [
       "       country  year  education\n",
       "0  Afghanistan  1970       0.48\n",
       "1      Albania  1970       4.99\n",
       "2      Algeria  1970       3.61\n",
       "3      Andorra  1970       9.50\n",
       "4       Angola  1970       1.64"
      ]
     },
     "execution_count": 48,
     "metadata": {},
     "output_type": "execute_result"
    }
   ],
   "source": [
    "#using padas melt function to organize the data the way I want it\n",
    "women_education = pd.melt(df_women, id_vars=['country'],var_name='year', value_name='education')\n",
    "women_education.head()"
   ]
  },
  {
   "cell_type": "code",
   "execution_count": 49,
   "metadata": {},
   "outputs": [
    {
     "data": {
      "text/html": [
       "<div>\n",
       "<style scoped>\n",
       "    .dataframe tbody tr th:only-of-type {\n",
       "        vertical-align: middle;\n",
       "    }\n",
       "\n",
       "    .dataframe tbody tr th {\n",
       "        vertical-align: top;\n",
       "    }\n",
       "\n",
       "    .dataframe thead th {\n",
       "        text-align: right;\n",
       "    }\n",
       "</style>\n",
       "<table border=\"1\" class=\"dataframe\">\n",
       "  <thead>\n",
       "    <tr style=\"text-align: right;\">\n",
       "      <th></th>\n",
       "      <th>education</th>\n",
       "    </tr>\n",
       "  </thead>\n",
       "  <tbody>\n",
       "    <tr>\n",
       "      <td>count</td>\n",
       "      <td>8602.000000</td>\n",
       "    </tr>\n",
       "    <tr>\n",
       "      <td>mean</td>\n",
       "      <td>7.246902</td>\n",
       "    </tr>\n",
       "    <tr>\n",
       "      <td>std</td>\n",
       "      <td>3.448175</td>\n",
       "    </tr>\n",
       "    <tr>\n",
       "      <td>min</td>\n",
       "      <td>0.420000</td>\n",
       "    </tr>\n",
       "    <tr>\n",
       "      <td>25%</td>\n",
       "      <td>4.550000</td>\n",
       "    </tr>\n",
       "    <tr>\n",
       "      <td>50%</td>\n",
       "      <td>7.310000</td>\n",
       "    </tr>\n",
       "    <tr>\n",
       "      <td>75%</td>\n",
       "      <td>9.927500</td>\n",
       "    </tr>\n",
       "    <tr>\n",
       "      <td>max</td>\n",
       "      <td>16.100000</td>\n",
       "    </tr>\n",
       "  </tbody>\n",
       "</table>\n",
       "</div>"
      ],
      "text/plain": [
       "         education\n",
       "count  8602.000000\n",
       "mean      7.246902\n",
       "std       3.448175\n",
       "min       0.420000\n",
       "25%       4.550000\n",
       "50%       7.310000\n",
       "75%       9.927500\n",
       "max      16.100000"
      ]
     },
     "execution_count": 49,
     "metadata": {},
     "output_type": "execute_result"
    }
   ],
   "source": [
    "#exploring the newly formed data\n",
    "women_education.describe()"
   ]
  },
  {
   "cell_type": "code",
   "execution_count": 50,
   "metadata": {},
   "outputs": [
    {
     "data": {
      "text/plain": [
       "(8602, 3)"
      ]
     },
     "execution_count": 50,
     "metadata": {},
     "output_type": "execute_result"
    }
   ],
   "source": [
    "#view records for samples & columns\n",
    "women_education.shape"
   ]
  },
  {
   "cell_type": "code",
   "execution_count": 51,
   "metadata": {},
   "outputs": [
    {
     "data": {
      "text/plain": [
       "country       object\n",
       "year          object\n",
       "education    float64\n",
       "dtype: object"
      ]
     },
     "execution_count": 51,
     "metadata": {},
     "output_type": "execute_result"
    }
   ],
   "source": [
    "#Check data types\n",
    "women_education.dtypes"
   ]
  },
  {
   "cell_type": "code",
   "execution_count": 52,
   "metadata": {},
   "outputs": [
    {
     "data": {
      "text/plain": [
       "country      0\n",
       "year         0\n",
       "education    0\n",
       "dtype: int64"
      ]
     },
     "execution_count": 52,
     "metadata": {},
     "output_type": "execute_result"
    }
   ],
   "source": [
    "#Check null records\n",
    "women_education.isnull().sum().head()"
   ]
  },
  {
   "cell_type": "code",
   "execution_count": 53,
   "metadata": {},
   "outputs": [
    {
     "data": {
      "text/plain": [
       "0"
      ]
     },
     "execution_count": 53,
     "metadata": {},
     "output_type": "execute_result"
    }
   ],
   "source": [
    "#view duplicate records\n",
    "women_education.duplicated().sum()"
   ]
  },
  {
   "cell_type": "markdown",
   "metadata": {},
   "source": [
    "<a id='eda'></a>\n",
    "\n",
    "<font color=#303F9F>Running queries for our desired countries we are able to create a line chart visualization. </font>\n",
    "<p>\n",
    "<li><font color=green>Luxembourg</li></font>\n",
    "<li><font color=blue>Norway</li></font>\n",
    "<li><font color=red>Denmark</li></font>\n",
    "<li><font color=gold>Sweden</li></font>\n",
    "<li><font color=#81D4FA>Australia</li></font>"
   ]
  },
  {
   "cell_type": "code",
   "execution_count": 54,
   "metadata": {},
   "outputs": [],
   "source": [
    "#Average years in school Women age 15-24 query in relation to GDP data\n",
    "#se_edu_women = women_education.query('country.str.contains(\"Sweden\")')\n",
    "#au_edu_women = women_education.query('country.str.contains(\"Australia\")')\n",
    "#lux_edu_women = women_education.query('country.str.contains(\"Luxembourg\")')\n",
    "#no_edu_women = women_education.query('country.str.contains(\"Norway\")')\n",
    "#dk_edu_women = women_education.query('country.str.contains(\"Denmark\")')\n",
    "\n",
    "se_edu_women = women_education[women_education['country'].str.contains(\"Sweden\")]\n",
    "au_edu_women = women_education[women_education['country'].str.contains(\"Australia\")]\n",
    "lux_edu_women = women_education[women_education['country'].str.contains(\"Luxembourg\")]\n",
    "no_edu_women = women_education[women_education['country'].str.contains(\"Norway\")]\n",
    "dk_edu_women = women_education[women_education['country'].str.contains(\"Denmark\")]"
   ]
  },
  {
   "cell_type": "markdown",
   "metadata": {},
   "source": [
    "<font color=#303F9F>Create a visual reprsentation </font>"
   ]
  },
  {
   "cell_type": "code",
   "execution_count": 55,
   "metadata": {},
   "outputs": [
    {
     "data": {
      "image/png": "[encoded data removed]",
      "text/plain": [
       "<Figure size 864x648 with 1 Axes>"
      ]
     },
     "metadata": {},
     "output_type": "display_data"
    }
   ],
   "source": [
    "#Line plot for the countries selected.\n",
    "def top_gdp_wschool():\n",
    "    year = list(range(1970, 2016))\n",
    "    se_edu = se_edu_women['education']\n",
    "    au_edu = au_edu_women['education']\n",
    "    lux_edu = lux_edu_women['education']\n",
    "    no_edu = no_edu_women['education']\n",
    "    dk_edu = dk_edu_women['education']\n",
    "\n",
    "    plt.plot(year, au_edu, color='c', label='Australia')\n",
    "    plt.plot(year, se_edu, color='y', label='Sweden')\n",
    "    plt.plot(year, no_edu, color='b', label='Norway')\n",
    "    plt.plot(year, dk_edu, color='r', label='Denmark')\n",
    "    plt.plot(year, lux_edu, color='g', label='Luxembourg')\n",
    "    \n",
    "    plt.legend(loc='upper left')\n",
    "    plt.xlabel('Year')\n",
    "    plt.ylabel('Mean years in School')\n",
    "    plt.title('Mean years In School Women 15-24 ')\n",
    "    return plt.show()\n",
    "\n",
    "top_gdp_wschool()\n"
   ]
  }
 ],
 "metadata": {
  "kernelspec": {
   "display_name": "Python 3",
   "language": "python",
   "name": "python3"
  },
  "language_info": {
   "codemirror_mode": {
    "name": "ipython",
    "version": 3
   },
   "file_extension": ".py",
   "mimetype": "text/x-python",
   "name": "python",
   "nbconvert_exporter": "python",
   "pygments_lexer": "ipython3",
   "version": "3.7.4"
  }
 },
 "nbformat": 4,
 "nbformat_minor": 2
}
